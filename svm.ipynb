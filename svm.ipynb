{
 "cells": [
  {
   "cell_type": "code",
   "execution_count": 1,
   "metadata": {},
   "outputs": [],
   "source": [
    "import numpy as np\n",
    "import pandas as pd\n",
    "import matplotlib.pyplot as plt\n",
    "from utils.utils import letters, read_letter_file, taxel_orders\n",
    "from pathlib import Path\n",
    "import tqdm\n",
    "\n",
    "def rect_represetation(count_values):\n",
    "    x = np.zeros_like(taxel_orders)\n",
    "    x[count_values[:,0]-1] = count_values[:,1]\n",
    "    return x.reshape((8,10))"
   ]
  },
  {
   "cell_type": "markdown",
   "metadata": {},
   "source": [
    "### 1. Prepare the data"
   ]
  },
  {
   "cell_type": "code",
   "execution_count": 2,
   "metadata": {},
   "outputs": [],
   "source": [
    "data_dir = 'data/'\n",
    "# letter = 'A'\n",
    "# i = 0"
   ]
  },
  {
   "cell_type": "code",
   "execution_count": 3,
   "metadata": {},
   "outputs": [
    {
     "name": "stderr",
     "output_type": "stream",
     "text": [
      "100%|██████████| 27/27 [00:03<00:00,  7.14it/s]\n"
     ]
    }
   ],
   "source": [
    "X = []\n",
    "Y = []\n",
    "for letter in tqdm.tqdm(letters.keys()):\n",
    "    for i in range(50):\n",
    "        fpath = Path(data_dir)/f'{letter}/{letter}_{i}.csv'\n",
    "        df = read_letter_file(fpath, True)\n",
    "        df_sample = df[ ['isPos', 'taxel_id'] ]\n",
    "        x = rect_represetation(df_sample.groupby('taxel_id').count().reset_index().values)\n",
    "        X.append(x.flatten())\n",
    "        y = letters[letter]\n",
    "        Y.append(y)"
   ]
  },
  {
   "cell_type": "code",
   "execution_count": 4,
   "metadata": {},
   "outputs": [],
   "source": [
    "X = np.array(X)\n",
    "Y = np.array(Y)"
   ]
  },
  {
   "cell_type": "code",
   "execution_count": 5,
   "metadata": {},
   "outputs": [],
   "source": [
    "# normalize the data\n",
    "from sklearn.preprocessing import MinMaxScaler\n",
    "scaler = MinMaxScaler()\n",
    "X = scaler.fit_transform(X)"
   ]
  },
  {
   "cell_type": "code",
   "execution_count": 6,
   "metadata": {},
   "outputs": [
    {
     "data": {
      "text/plain": [
       "((1350, 80), (1350,))"
      ]
     },
     "execution_count": 6,
     "metadata": {},
     "output_type": "execute_result"
    }
   ],
   "source": [
    "X.shape, Y.shape"
   ]
  },
  {
   "cell_type": "code",
   "execution_count": 7,
   "metadata": {},
   "outputs": [],
   "source": [
    "from sklearn.model_selection import train_test_split\n",
    "\n",
    "X_train, X_test, y_train, y_test = train_test_split(X, Y, test_size=0.3, random_state=100, stratify=Y)"
   ]
  },
  {
   "cell_type": "code",
   "execution_count": 8,
   "metadata": {},
   "outputs": [
    {
     "data": {
      "text/plain": [
       "((945, 80), (405, 80))"
      ]
     },
     "execution_count": 8,
     "metadata": {},
     "output_type": "execute_result"
    }
   ],
   "source": [
    "X_train.shape, X_test.shape"
   ]
  },
  {
   "cell_type": "markdown",
   "metadata": {},
   "source": [
    "### 2. Verify linear seperability with SVM"
   ]
  },
  {
   "cell_type": "code",
   "execution_count": 9,
   "metadata": {},
   "outputs": [],
   "source": [
    "from sklearn import svm\n",
    "from sklearn.model_selection import GridSearchCV\n",
    "\n",
    "parameters = {'C':[0.1, 1, 2, 3, 10]}\n",
    "svc = svm.SVC(kernel='linear')\n",
    "clf = GridSearchCV(svc, parameters, cv=5)"
   ]
  },
  {
   "cell_type": "code",
   "execution_count": 10,
   "metadata": {},
   "outputs": [
    {
     "data": {
      "text/plain": [
       "GridSearchCV(cv=5, estimator=SVC(kernel='linear'),\n",
       "             param_grid={'C': [0.1, 1, 2, 3, 10]})"
      ]
     },
     "execution_count": 10,
     "metadata": {},
     "output_type": "execute_result"
    }
   ],
   "source": [
    "clf.fit(X_train, y_train)"
   ]
  },
  {
   "cell_type": "code",
   "execution_count": 11,
   "metadata": {},
   "outputs": [
    {
     "data": {
      "text/plain": [
       "SVC(C=10, kernel='linear')"
      ]
     },
     "execution_count": 11,
     "metadata": {},
     "output_type": "execute_result"
    }
   ],
   "source": [
    "clf.best_estimator_"
   ]
  },
  {
   "cell_type": "code",
   "execution_count": 12,
   "metadata": {},
   "outputs": [],
   "source": [
    "y_pred = clf.predict(X_test)"
   ]
  },
  {
   "cell_type": "code",
   "execution_count": 13,
   "metadata": {},
   "outputs": [],
   "source": [
    "from sklearn.metrics import classification_report"
   ]
  },
  {
   "cell_type": "code",
   "execution_count": 14,
   "metadata": {},
   "outputs": [
    {
     "name": "stdout",
     "output_type": "stream",
     "text": [
      "              precision    recall  f1-score   support\n",
      "\n",
      "           A       0.36      0.53      0.43        15\n",
      "           B       0.43      0.40      0.41        15\n",
      "           C       0.57      0.53      0.55        15\n",
      "           D       0.62      0.87      0.72        15\n",
      "           E       0.54      0.87      0.67        15\n",
      "           F       0.64      0.93      0.76        15\n",
      "           G       0.46      0.40      0.43        15\n",
      "           H       0.29      0.33      0.31        15\n",
      "           I       0.43      0.67      0.53        15\n",
      "           J       0.43      0.40      0.41        15\n",
      "           K       0.67      0.40      0.50        15\n",
      "           L       0.76      0.87      0.81        15\n",
      "           M       0.90      0.60      0.72        15\n",
      "           N       1.00      0.87      0.93        15\n",
      "           O       0.62      0.53      0.57        15\n",
      "           P       0.79      0.73      0.76        15\n",
      "           Q       0.60      0.60      0.60        15\n",
      "           R       0.71      0.67      0.69        15\n",
      "           S       0.82      0.60      0.69        15\n",
      "           T       0.92      0.73      0.81        15\n",
      "           U       0.75      0.80      0.77        15\n",
      "           V       0.75      0.80      0.77        15\n",
      "           W       0.82      0.60      0.69        15\n",
      "           X       0.87      0.87      0.87        15\n",
      "           Y       0.62      0.33      0.43        15\n",
      "           Z       0.73      0.53      0.62        15\n",
      "       space       0.88      0.93      0.90        15\n",
      "\n",
      "    accuracy                           0.64       405\n",
      "   macro avg       0.67      0.64      0.64       405\n",
      "weighted avg       0.67      0.64      0.64       405\n",
      "\n"
     ]
    }
   ],
   "source": [
    "print( classification_report(y_test, y_pred, target_names=letters.keys()) )"
   ]
  },
  {
   "cell_type": "code",
   "execution_count": 15,
   "metadata": {},
   "outputs": [],
   "source": [
    "from sklearn.metrics import plot_confusion_matrix"
   ]
  },
  {
   "cell_type": "code",
   "execution_count": 16,
   "metadata": {},
   "outputs": [
    {
     "data": {
      "image/png": "[encoded data removed]",
      "text/plain": [
       "<Figure size 720x720 with 1 Axes>"
      ]
     },
     "metadata": {
      "needs_background": "light"
     },
     "output_type": "display_data"
    }
   ],
   "source": [
    "fig, ax = plt.subplots(figsize=(10,10))\n",
    "plot_confusion_matrix(clf, X_test, y_test, ax=ax, colorbar=False, display_labels=letters.keys())\n",
    "plt.savefig('svm_spike_counts.png')"
   ]
  },
  {
   "cell_type": "markdown",
   "metadata": {},
   "source": [
    "### 3. Are interspike times are linearly seperable?"
   ]
  },
  {
   "cell_type": "code",
   "execution_count": 17,
   "metadata": {},
   "outputs": [],
   "source": [
    "def rect_represetation2(count_values):\n",
    "    x = np.zeros_like(taxel_orders).astype(np.float)\n",
    "    taxel_ids = np.copy(count_values[:,0]).astype(int) -1 \n",
    "    x[taxel_ids] = count_values[:,1]\n",
    "    return x.reshape((8,10))"
   ]
  },
  {
   "cell_type": "code",
   "execution_count": 18,
   "metadata": {},
   "outputs": [
    {
     "name": "stderr",
     "output_type": "stream",
     "text": [
      "100%|██████████| 27/27 [00:04<00:00,  6.24it/s]\n"
     ]
    }
   ],
   "source": [
    "X = []\n",
    "Y = []\n",
    "for letter in tqdm.tqdm(letters.keys()):\n",
    "    for i in range(50):\n",
    "        fpath = Path(data_dir)/f'{letter}/{letter}_{i}.csv'\n",
    "        df = read_letter_file(fpath, True)\n",
    "        df  = df.assign(delta = df.timestamp.diff())\n",
    "        df_sample = df[ ['delta', 'taxel_id'] ]\n",
    "        x = rect_represetation(df_sample.groupby('taxel_id').count().reset_index().values)\n",
    "        X.append(x.flatten())\n",
    "        y = letters[letter]\n",
    "        Y.append(y)"
   ]
  },
  {
   "cell_type": "code",
   "execution_count": 19,
   "metadata": {},
   "outputs": [
    {
     "data": {
      "text/plain": [
       "((945, 80), (405, 80))"
      ]
     },
     "execution_count": 19,
     "metadata": {},
     "output_type": "execute_result"
    }
   ],
   "source": [
    "X = np.array(X)\n",
    "Y = np.array(Y)\n",
    "X_train, X_test, y_train, y_test = train_test_split(X, Y, test_size=0.3, random_state=100, stratify=Y)\n",
    "X_train.shape, X_test.shape"
   ]
  },
  {
   "cell_type": "code",
   "execution_count": 20,
   "metadata": {},
   "outputs": [],
   "source": [
    "from sklearn import svm\n",
    "from sklearn.model_selection import GridSearchCV\n",
    "\n",
    "parameters = {'C':[0.1, 1, 2, 3, 10]}\n",
    "svc = svm.SVC(kernel='linear')\n",
    "clf = GridSearchCV(svc, parameters, cv=5)"
   ]
  },
  {
   "cell_type": "code",
   "execution_count": 21,
   "metadata": {},
   "outputs": [
    {
     "data": {
      "text/plain": [
       "GridSearchCV(cv=5, estimator=SVC(kernel='linear'),\n",
       "             param_grid={'C': [0.1, 1, 2, 3, 10]})"
      ]
     },
     "execution_count": 21,
     "metadata": {},
     "output_type": "execute_result"
    }
   ],
   "source": [
    "clf.fit(X_train, y_train)"
   ]
  },
  {
   "cell_type": "code",
   "execution_count": 22,
   "metadata": {},
   "outputs": [
    {
     "data": {
      "text/plain": [
       "SVC(C=0.1, kernel='linear')"
      ]
     },
     "execution_count": 22,
     "metadata": {},
     "output_type": "execute_result"
    }
   ],
   "source": [
    "clf.best_estimator_"
   ]
  },
  {
   "cell_type": "code",
   "execution_count": 23,
   "metadata": {},
   "outputs": [
    {
     "name": "stdout",
     "output_type": "stream",
     "text": [
      "              precision    recall  f1-score   support\n",
      "\n",
      "           A       0.35      0.60      0.44        15\n",
      "           B       0.50      0.53      0.52        15\n",
      "           C       0.59      0.67      0.62        15\n",
      "           D       0.57      0.87      0.68        15\n",
      "           E       0.67      0.93      0.78        15\n",
      "           F       0.76      0.87      0.81        15\n",
      "           G       0.50      0.60      0.55        15\n",
      "           H       0.50      0.33      0.40        15\n",
      "           I       0.60      0.80      0.69        15\n",
      "           J       0.27      0.27      0.27        15\n",
      "           K       0.54      0.47      0.50        15\n",
      "           L       0.75      0.80      0.77        15\n",
      "           M       1.00      0.60      0.75        15\n",
      "           N       0.87      0.87      0.87        15\n",
      "           O       0.80      0.53      0.64        15\n",
      "           P       0.69      0.73      0.71        15\n",
      "           Q       0.67      0.67      0.67        15\n",
      "           R       0.62      0.67      0.65        15\n",
      "           S       0.90      0.60      0.72        15\n",
      "           T       0.92      0.73      0.81        15\n",
      "           U       0.73      0.73      0.73        15\n",
      "           V       0.75      0.80      0.77        15\n",
      "           W       0.91      0.67      0.77        15\n",
      "           X       0.87      0.87      0.87        15\n",
      "           Y       0.71      0.33      0.45        15\n",
      "           Z       0.80      0.53      0.64        15\n",
      "       space       0.88      0.93      0.90        15\n",
      "\n",
      "    accuracy                           0.67       405\n",
      "   macro avg       0.69      0.67      0.67       405\n",
      "weighted avg       0.69      0.67      0.67       405\n",
      "\n"
     ]
    }
   ],
   "source": [
    "y_pred = clf.predict(X_test)\n",
    "print( classification_report(y_test, y_pred, target_names=letters.keys()) )"
   ]
  },
  {
   "cell_type": "code",
   "execution_count": 24,
   "metadata": {},
   "outputs": [
    {
     "data": {
      "text/plain": [
       "<sklearn.metrics._plot.confusion_matrix.ConfusionMatrixDisplay at 0x7f9d2e4ffeb0>"
      ]
     },
     "execution_count": 24,
     "metadata": {},
     "output_type": "execute_result"
    },
    {
     "data": {
      "image/png": "[encoded data removed]",
      "text/plain": [
       "<Figure size 720x720 with 1 Axes>"
      ]
     },
     "metadata": {
      "needs_background": "light"
     },
     "output_type": "display_data"
    }
   ],
   "source": [
    "fig, ax = plt.subplots(figsize=(10,10))\n",
    "plot_confusion_matrix(clf, X_test, y_test, ax=ax, colorbar=False)"
   ]
  },
  {
   "cell_type": "code",
   "execution_count": null,
   "metadata": {},
   "outputs": [],
   "source": []
  }
 ],
 "metadata": {
  "kernelspec": {
   "display_name": "Python 3",
   "language": "python",
   "name": "python3"
  },
  "language_info": {
   "codemirror_mode": {
    "name": "ipython",
    "version": 3
   },
   "file_extension": ".py",
   "mimetype": "text/x-python",
   "name": "python",
   "nbconvert_exporter": "python",
   "pygments_lexer": "ipython3",
   "version": "3.8.5"
  }
 },
 "nbformat": 4,
 "nbformat_minor": 4
}
